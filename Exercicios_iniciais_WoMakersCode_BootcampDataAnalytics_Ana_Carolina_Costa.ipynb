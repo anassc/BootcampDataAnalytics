{
  "nbformat": 4,
  "nbformat_minor": 0,
  "metadata": {
    "colab": {
      "provenance": []
    },
    "kernelspec": {
      "name": "python3",
      "display_name": "Python 3"
    },
    "language_info": {
      "name": "python"
    }
  },
  "cells": [
    {
      "cell_type": "markdown",
      "source": [
        "1 ) Para determinar se um candidato está qualificado para uma vaga de emprego, são aplicados dois critérios:\n",
        "\n",
        "a) O candidato deve ter uma presença igual ou superior a 60% em um treinamento obrigatório.\n",
        "\n",
        "b) O candidato deve ter uma média de desempenho igual ou superior a 7 em uma série de testes.\n",
        "\n",
        "Para auxiliar na avaliação dos candidatos, você deve criar uma função que recebe uma lista de dicionários contendo o nome do candidato, a média de desempenho e a quantidade de horas de ausência do treinamento. Com esses dados, a função deve calcular se o candidato está qualificado ou não. A presença do candidato é calculada considerando que o treinamento teve um total de 60 horas e utilizando a fórmula:\n",
        "\n",
        "(Total horas - número de faltas)/Total horas * 100;\n"
      ],
      "metadata": {
        "id": "3UpM724I5C19"
      }
    },
    {
      "cell_type": "code",
      "source": [
        "def avaliar_candidato(lista_candidatos):\n",
        "\n",
        "  for candidato in lista_candidatos:\n",
        "    # dados candidato\n",
        "    nome = candidato['Nome']\n",
        "    media_desempenho = candidato['Média de Desempenho']\n",
        "    total_hrs_ausente = candidato['Horas de Ausência']\n",
        "    #Dads do Curso\n",
        "    total_horas_treinamento = 60\n",
        "    #Critérios para aprovação:\n",
        "    media = 7\n",
        "    presenca= (total_horas_treinamento - total_hrs_ausente)/total_horas_treinamento * 100\n",
        "    status = \" \"\n",
        "\n",
        "    #imprimir de acordo com os critérios do if\n",
        "    if(media_desempenho>=media and presenca >=60):\n",
        "      status= print(f\"{nome} foi Aprovado : presença {presenca:.2f}% e media {media_desempenho}\")\n",
        "    else:\n",
        "      status = print(f\"{nome} foi Reprovado: presença {presenca:.2f}% e media {media_desempenho} \")\n",
        "\n",
        "# teste\n",
        "\n",
        "#recebo informações doa candidados\n",
        "numero_canditados= int(input (\"qual é o número de candidatos?\"))\n",
        "lista_candidatos=[]\n",
        "for n in range(numero_canditados):\n",
        "\n",
        "  nome = input(\"Nome do Candidato:\")\n",
        "  media_desempenho = float(input(\"Média de desempenho:\" ))\n",
        "  total_hrs_ausente = float(input(\"quantidade de horas de ausência do treinamento:\" ))\n",
        "\n",
        "  candidato = {'Nome': nome, 'Média de Desempenho': media_desempenho, 'Horas de Ausência': total_hrs_ausente}\n",
        "  lista_candidatos.append(candidato)\n",
        "\n",
        "#chama a função\n",
        "avaliar_candidato(lista_candidatos)"
      ],
      "metadata": {
        "id": "O2hOs_uyeur8",
        "colab": {
          "base_uri": "https://localhost:8080/"
        },
        "outputId": "28d5d9ca-4477-47b1-d519-d7fb3fefc0f0"
      },
      "execution_count": null,
      "outputs": [
        {
          "output_type": "stream",
          "name": "stdout",
          "text": [
            "qual é o número de candidatos?1\n",
            "Nome do Candidato:Ana\n",
            "Média de desempenho:8\n",
            "quantidade de horas de ausência do treinamento:25\n",
            "Ana foi Reprovado: presença 58.33% e media 8.0 \n"
          ]
        }
      ]
    },
    {
      "cell_type": "markdown",
      "source": [
        "2) Crie uma função que recebe uma palavra (string), separa todos os caracteres em uma lista, retorna esta lista e quantidade de letras."
      ],
      "metadata": {
        "id": "fKKdyWo55e8w"
      }
    },
    {
      "cell_type": "code",
      "source": [
        "def separar_string(palavra):\n",
        "  #contagem da letras da variavel 'palavra'\n",
        "  tamanho= len(palavra)\n",
        "  #criação da lista\n",
        "  lista_caracteres=[]\n",
        "  i = 0\n",
        "\n",
        "  #laço\n",
        "  while  i < tamanho:\n",
        "    #encontar a letra que esta na posição i da variavel 'palavra' e armazena na variavel 'letra'\n",
        "    letra = palavra[i]\n",
        "    i+=1\n",
        "    #adiciona na lista\n",
        "    lista_caracteres.append(letra)\n",
        "\n",
        "  return lista_caracteres , i\n",
        "\n",
        "# teste\n",
        "\n",
        "#recebe a palavra\n",
        "palavra=input(\"Digite uma palavra\")\n",
        "\n",
        "#chama a função\n",
        "separar_string(palavra)\n",
        "\n",
        "\n"
      ],
      "metadata": {
        "colab": {
          "base_uri": "https://localhost:8080/"
        },
        "outputId": "58911ed8-2aec-41ec-ee02-65df934790d0",
        "id": "5SFg0W_De07U"
      },
      "execution_count": null,
      "outputs": [
        {
          "name": "stdout",
          "output_type": "stream",
          "text": [
            "Digite uma palavrapaz\n"
          ]
        },
        {
          "output_type": "execute_result",
          "data": {
            "text/plain": [
              "(['p', 'a', 'z'], 3)"
            ]
          },
          "metadata": {},
          "execution_count": 15
        }
      ]
    },
    {
      "cell_type": "markdown",
      "source": [
        "3) Crie um programa que leia quanto dinheiro uma pessoa tem na carteira, e calcule quanto poderia comprar de cada moeda estrangeira. Considere a tabela de conversão abaixo:\n",
        "\n",
        "Valor convertido em real:\n",
        "*   Dólar Americano: 4,91\n",
        "*   Peso Argentino: 0,02\n",
        "*   Dólar Australiano: 3,18\n",
        "*   Dólar Canadense: 3,64\n",
        "*   Franco Suiço: 0,42\n",
        "*   Euro:  5,36\n",
        "*   Libra esterlina: 6,21\n",
        "\n",
        "\n",
        "\n",
        "\n",
        "\n",
        "\n",
        "\n"
      ],
      "metadata": {
        "id": "EEXxWdjH5sju"
      }
    },
    {
      "cell_type": "code",
      "source": [
        "def calcular_conversao(dinheiro):\n",
        "    taxas_cambio = {\n",
        "        'Dólar Americano': 4.91,\n",
        "        'Peso Argentino': 0.02,\n",
        "        'Dólar Australiano': 3.18,\n",
        "        'Dólar Canadense': 3.64,\n",
        "        'Franco Suiço': 0.42,\n",
        "        'Euro': 5.36,\n",
        "        'Libra esterlina': 6.21\n",
        "    }\n",
        "\n",
        "    print(f\"Quantidade de dinheiro na carteira: R$ {dinheiro:.2f}\\n\")\n",
        "#percorre o dicionario taxa_cambio, divide dinheiro por pelo valor\"taxa\"  e imprime na tela os valores convertidos\n",
        "    for moeda, taxa in taxas_cambio.items():\n",
        "        valor_convertido = dinheiro / taxa\n",
        "        print(f\"Com R$ {dinheiro:.2f}, você poderia comprar aproximadamente {valor_convertido:.2f} {moeda}\")\n",
        "\n",
        "# Leitura de entrada do usuário\n",
        "dinheiro = float(input(\"Digite a quantidade de dinheiro na carteira (em reais): \"))\n",
        "calcular_conversao(dinheiro)"
      ],
      "metadata": {
        "id": "-j7-dXsHfG_y"
      },
      "execution_count": null,
      "outputs": []
    },
    {
      "cell_type": "markdown",
      "source": [
        "\n",
        "4) O chefe decidiu premiar os melhores funcionários de sua empresa com um brinde. Para isso ela vai entregar um brinde para todos os funcionários que tiverem uma performance superior a média da equipe.\n",
        "\n",
        "Elabore uma função que recebe uma lista de nome em formato de dict (dicionário) com nome do funcionário e a média do funcionário (Valor de 0 a 10). Esta função deve calcular a média da equipe, identificar quais funcionários tem média igual ou superior a média da equipe e retornar uma lista com o nome dos funcionários que possuem média igual ou superior a média da equipe. A ordem dos nomes da lista de retorno deve ser em ordem decrescente."
      ],
      "metadata": {
        "id": "Tj2Ds76-6FXs"
      }
    },
    {
      "cell_type": "code",
      "source": [
        "def premiar_melhores_funcionarios(funcionarios):\n",
        "    # Calcula a média da equipe\n",
        "    media_equipe = sum(funcionario['media'] for funcionario in funcionarios) / len(funcionarios)\n",
        "\n",
        "    # Filtra os funcionários que têm média igual ou superior à média da equipe\n",
        "    melhores_funcionarios = []\n",
        "    for funcionario in funcionarios:\n",
        "        if funcionario['media'] >= media_equipe:\n",
        "            melhores_funcionarios.append(funcionario['nome'])\n",
        "\n",
        "    # Ordena os nomes em ordem decrescente\n",
        "    melhores_funcionarios.sort(reverse=True)\n",
        "\n",
        "    return melhores_funcionarios\n",
        "\n",
        "# Exemplo de uso:\n",
        "lista_funcionarios = [\n",
        "    {'nome': 'Funcionario1', 'media': 8},\n",
        "    {'nome': 'Funcionario2', 'media': 6},\n",
        "    {'nome': 'Funcionario3', 'media': 9},\n",
        "    # Adicione mais funcionários conforme necessário\n",
        "]\n",
        "\n",
        "resultados = premiar_melhores_funcionarios(lista_funcionarios)\n",
        "print(\"Funcionários premiados:\", resultados)"
      ],
      "metadata": {
        "id": "8CasglFbiWq5",
        "colab": {
          "base_uri": "https://localhost:8080/"
        },
        "outputId": "f12ae944-c08d-4385-a50a-d0e70d763262"
      },
      "execution_count": null,
      "outputs": [
        {
          "output_type": "stream",
          "name": "stdout",
          "text": [
            "Funcionários premiados: ['Funcionario3', 'Funcionario1']\n"
          ]
        }
      ]
    },
    {
      "cell_type": "markdown",
      "source": [
        "5) Na variável países_ano, temos uma lista de listas, em que cada elemento é uma lista de dois elementos, em que o primeiro é o nome de um país e o segundo é o ano em que a nação foi fundada."
      ],
      "metadata": {
        "id": "pVSP5n1T_ZWQ"
      }
    },
    {
      "cell_type": "code",
      "source": [
        "lista_paises = [[\"Brasil\", \"1500\"],[\"Mexico\",\"1519\"], [\"Inglaterra\", \"927\"], [\"Espanha\",\"1978\"], [\"Escocia\", \"843\"]]"
      ],
      "metadata": {
        "id": "zRywrNff01he"
      },
      "execution_count": null,
      "outputs": []
    },
    {
      "cell_type": "markdown",
      "source": [
        "Você deseja criar uma nova lista de listas a partir do exemplo (lista_paises), em que cada elemento é uma lista de dois elementos, sendo o primeiro o nome do país (como é na lista original) e o segundo é o número de anos desde a fundação do país (considere que o ano atual é 2023)."
      ],
      "metadata": {
        "id": "OpU-UWXC01Ca"
      }
    },
    {
      "cell_type": "code",
      "source": [
        "# Função para calcular o número de anos desde a fundação do país\n",
        "def calcular_anos_desde_fundacao(ano_fundacao):\n",
        "    return ano_atual - int(ano_fundacao)\n",
        "\n",
        "# Lista original de países e anos de fundação\n",
        "lista_paises = [[\"Brasil\", \"1500\"],[\"Mexico\",\"1519\"], [\"Inglaterra\", \"927\"], [\"Espanha\",\"1978\"], [\"Escocia\", \"843\"]]\n",
        "\n",
        "# Ano atual\n",
        "ano_atual = 2023\n",
        "\n",
        "# Criar a nova lista de listas\n",
        "nova_lista_paises = []\n",
        "\n",
        "for pais, ano in lista_paises:\n",
        "    anos_desde_fundacao = calcular_anos_desde_fundacao(ano)\n",
        "    nova_lista_paises.append([pais, str(anos_desde_fundacao)])\n",
        "\n",
        "# Imprimir a nova lista\n",
        "for elemento in nova_lista_paises:\n",
        "    print(elemento)"
      ],
      "metadata": {
        "id": "xaEQxcMFvhVa"
      },
      "execution_count": null,
      "outputs": []
    },
    {
      "cell_type": "markdown",
      "source": [
        "6) Um jogador de um jogo de vídeo game deseja subir de nível em seu personagem ao atingir 50 inimigos derrotados. Enquanto esse número não é alcançado, uma mensagem indicando quantos inimigos ainda faltam é exibida na tela.\n"
      ],
      "metadata": {
        "id": "_qb748YiCzh-"
      }
    },
    {
      "cell_type": "code",
      "source": [
        "inimigos_derrotados = 0\n",
        "nivel = 0\n",
        "\n",
        "while (inimigos_derrotados < 50):\n",
        "\n",
        "    print(f\"Faltam {50 - inimigos_derrotados} inimigos para você mudar de nível!\")\n",
        "    inimigos_derrotados+=1 # cada vez q refaça o while,  contabiliza quantos inimigos ele eliminou, e dessa maneira  não deixa o laço infinito.\n",
        "\n",
        "\n",
        "print(\"\\nVocê atingiu o próximo nível!\")\n",
        "nivel = 1"
      ],
      "metadata": {
        "id": "ttoMkq2zfUpQ"
      },
      "execution_count": null,
      "outputs": []
    }
  ]
}
